{
 "cells": [
  {
   "cell_type": "code",
   "execution_count": 1,
   "metadata": {
    "collapsed": false
   },
   "outputs": [],
   "source": [
    "%matplotlib inline\n",
    "import os\n",
    "import requests\n",
    "from bs4 import BeautifulSoup\n",
    "from tqdm import tqdm\n",
    "import matplotlib.pyplot as plt\n",
    "import numpy as np"
   ]
  },
  {
   "cell_type": "code",
   "execution_count": 2,
   "metadata": {
    "collapsed": true
   },
   "outputs": [],
   "source": [
    "def get_html_bs(url):\n",
    "    r = requests.get(url)\n",
    "    return BeautifulSoup(r.text, 'html.parser')"
   ]
  },
  {
   "cell_type": "code",
   "execution_count": 3,
   "metadata": {
    "collapsed": false
   },
   "outputs": [],
   "source": [
    "def get_user_name(td):\n",
    "    return td.find('a').find('span').text\n",
    "\n",
    "\n",
    "def get_country(td):\n",
    "    basename = os.path.basename(td.find('img')['src'])\n",
    "    fname, _ = os.path.splitext(basename)\n",
    "    return fname\n",
    "\n",
    "\n",
    "def parse_td_list(td_list):\n",
    "    rank = int(td_list[0].text)\n",
    "    rating = int(td_list[2].text)\n",
    "    max_rating = int(td_list[3].text)\n",
    "    count = int(td_list[4].text)\n",
    "    win_count = int(td_list[5].text)\n",
    "    user_name = get_user_name(td_list[1])\n",
    "    country = get_country(td_list[1])\n",
    "\n",
    "    return {'rank': rank, 'rating': rating, 'max_rating': max_rating, 'count': count, 'win_count': win_count, 'user_name': user_name, 'country': country}\n",
    "\n",
    "def parse_ranking(bs):\n",
    "    users = []\n",
    "    rank_table = bs.find('table')\n",
    "    for tr in rank_table.find_all('tr')[1::]:\n",
    "        td_list = tr.find_all('td')\n",
    "        user = parse_td_list(td_list)\n",
    "        users.append(user)\n",
    "    \n",
    "    return users"
   ]
  },
  {
   "cell_type": "code",
   "execution_count": 4,
   "metadata": {
    "collapsed": false
   },
   "outputs": [
    {
     "name": "stderr",
     "output_type": "stream",
     "text": [
      "100%|██████████| 51/51 [00:15<00:00,  3.86it/s]\n"
     ]
    }
   ],
   "source": [
    "base_url = 'https://atcoder.jp/ranking?p={}'\n",
    "users = []\n",
    "for i in tqdm(range(1, 52)):\n",
    "    url = base_url.format(i)\n",
    "    bs = get_html_bs(url)\n",
    "    users += parse_ranking(bs)"
   ]
  },
  {
   "cell_type": "code",
   "execution_count": 5,
   "metadata": {
    "collapsed": false
   },
   "outputs": [],
   "source": [
    "def plot_hist(ax, x, bins, color):\n",
    "    return ax.hist(x, bins=bins, color=color)\n",
    "\n",
    "\n",
    "def plot_rating_hist(ax, lower_count):\n",
    "    rating = [user['rating']\n",
    "              for user in users if user['count'] if user['count'] >= lower_count]\n",
    "    color_thresholds = [9999, 2800, 2400, 2000, 1600, 1200, 800, 400, 0]\n",
    "    colors = ['red', '#FF8000', '#C0C000', 'blue',\n",
    "              'cyan', '#008000', '#804000', '#808080']\n",
    "    bins = range(min(rating) // 100 * 100, max(rating) // 100 * 100, 100)\n",
    "    mean = np.mean(rating)\n",
    "    print('mean = {:.2f}, median = {:.2f}, std = {:.2f}'.format(\n",
    "        mean, np.median(rating), np.std(rating)))\n",
    "\n",
    "    ymax = 0\n",
    "    for i in range(len(color_thresholds) - 1):\n",
    "        upper = color_thresholds[i]\n",
    "        lower = color_thresholds[i + 1]\n",
    "        x = [x for x in rating if x in range(lower, upper)]\n",
    "        ret = plot_hist(ax, x, bins, colors[i])\n",
    "        ymax = max(ymax, max(ret[0]))\n",
    "\n",
    "    ax.vlines([mean], 0, ymax)\n",
    "    ax.title('lower count = {}'.format(lower_count))"
   ]
  },
  {
   "cell_type": "code",
   "execution_count": 6,
   "metadata": {
    "collapsed": false
   },
   "outputs": [
    {
     "name": "stdout",
     "output_type": "stream",
     "text": [
      "mean = 757.51, median = 565.00, std = 712.12\n"
     ]
    },
    {
     "data": {
      "image/png": "[encoded data removed]",
      "text/plain": [
       "<matplotlib.figure.Figure at 0x10a9c0358>"
      ]
     },
     "metadata": {},
     "output_type": "display_data"
    }
   ],
   "source": [
    "plot_rating_hist(plt, 0)"
   ]
  },
  {
   "cell_type": "code",
   "execution_count": 7,
   "metadata": {
    "collapsed": false
   },
   "outputs": [
    {
     "name": "stdout",
     "output_type": "stream",
     "text": [
      "mean = 1413.69, median = 1345.00, std = 659.43\n"
     ]
    },
    {
     "data": {
      "image/png": "[encoded data removed]",
      "text/plain": [
       "<matplotlib.figure.Figure at 0x10db2b7b8>"
      ]
     },
     "metadata": {},
     "output_type": "display_data"
    }
   ],
   "source": [
    "plot_rating_hist(plt, 5)"
   ]
  },
  {
   "cell_type": "code",
   "execution_count": 8,
   "metadata": {
    "collapsed": false
   },
   "outputs": [
    {
     "name": "stdout",
     "output_type": "stream",
     "text": [
      "mean = 1625.06, median = 1569.50, std = 603.58\n"
     ]
    },
    {
     "data": {
      "image/png": "[encoded data removed]",
      "text/plain": [
       "<matplotlib.figure.Figure at 0x10e13e438>"
      ]
     },
     "metadata": {},
     "output_type": "display_data"
    }
   ],
   "source": [
    "plot_rating_hist(plt, 10)"
   ]
  },
  {
   "cell_type": "code",
   "execution_count": 9,
   "metadata": {
    "collapsed": false
   },
   "outputs": [
    {
     "name": "stdout",
     "output_type": "stream",
     "text": [
      "mean = 1726.32, median = 1705.50, std = 515.16\n"
     ]
    },
    {
     "data": {
      "image/png": "[encoded data removed]",
      "text/plain": [
       "<matplotlib.figure.Figure at 0x10b5a7668>"
      ]
     },
     "metadata": {},
     "output_type": "display_data"
    }
   ],
   "source": [
    "plot_rating_hist(plt, 15)"
   ]
  }
 ],
 "metadata": {
  "anaconda-cloud": {},
  "kernelspec": {
   "display_name": "Python [Root]",
   "language": "python",
   "name": "Python [Root]"
  },
  "language_info": {
   "codemirror_mode": {
    "name": "ipython",
    "version": 3
   },
   "file_extension": ".py",
   "mimetype": "text/x-python",
   "name": "python",
   "nbconvert_exporter": "python",
   "pygments_lexer": "ipython3",
   "version": "3.5.2"
  }
 },
 "nbformat": 4,
 "nbformat_minor": 0
}
